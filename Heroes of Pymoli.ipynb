{
 "cells": [
  {
   "cell_type": "code",
   "execution_count": 1,
   "metadata": {},
   "outputs": [],
   "source": [
    "# Import Dependencies\n",
    "import pandas as pd\n",
    "import numpy as np\n",
    "import statistics as stats\n",
    "# Reading the file from the respective directory to perform various tasks.\n",
    "file_path = (\"Resources\\purchase_data.csv\")\n",
    "newfile = pd.read_csv(file_path)"
   ]
  },
  {
   "cell_type": "code",
   "execution_count": 2,
   "metadata": {
    "tags": []
   },
   "outputs": [
    {
     "output_type": "stream",
     "name": "stdout",
     "text": "Player Count\nTotal Number of Players :576\n"
    },
    {
     "output_type": "execute_result",
     "data": {
      "text/plain": "   Total Players\n0            576",
      "text/html": "<div>\n<style scoped>\n    .dataframe tbody tr th:only-of-type {\n        vertical-align: middle;\n    }\n\n    .dataframe tbody tr th {\n        vertical-align: top;\n    }\n\n    .dataframe thead th {\n        text-align: right;\n    }\n</style>\n<table border=\"1\" class=\"dataframe\">\n  <thead>\n    <tr style=\"text-align: right;\">\n      <th></th>\n      <th>Total Players</th>\n    </tr>\n  </thead>\n  <tbody>\n    <tr>\n      <th>0</th>\n      <td>576</td>\n    </tr>\n  </tbody>\n</table>\n</div>"
     },
     "metadata": {},
     "execution_count": 2
    }
   ],
   "source": [
    "# Calculating total Number of Players\n",
    "totalPlayers = newfile[\"SN\"].nunique()\n",
    "totalPlayers\n",
    "\n",
    "print(\"Player Count\")\n",
    "print(\"Total Number of Players :\" + str(totalPlayers))\n",
    "playerscount = pd.DataFrame({\"Total Players\":[totalPlayers]})\n",
    "playerscount\n",
    "\n"
   ]
  },
  {
   "cell_type": "code",
   "execution_count": 3,
   "metadata": {},
   "outputs": [
    {
     "output_type": "execute_result",
     "data": {
      "text/plain": "<pandas.io.formats.style.Styler at 0x251678cbc88>",
      "text/html": "<style  type=\"text/css\" >\n</style><table id=\"T_d90fdcd8_df05_11ea_a4f4_b831b581bd51\" ><thead>    <tr>        <th class=\"blank level0\" ></th>        <th class=\"col_heading level0 col0\" >Number of Unique Items</th>        <th class=\"col_heading level0 col1\" >Average Price</th>        <th class=\"col_heading level0 col2\" >Number of Purchases</th>        <th class=\"col_heading level0 col3\" >Total Revenue</th>    </tr></thead><tbody>\n                <tr>\n                        <th id=\"T_d90fdcd8_df05_11ea_a4f4_b831b581bd51level0_row0\" class=\"row_heading level0 row0\" >0</th>\n                        <td id=\"T_d90fdcd8_df05_11ea_a4f4_b831b581bd51row0_col0\" class=\"data row0 col0\" >179</td>\n                        <td id=\"T_d90fdcd8_df05_11ea_a4f4_b831b581bd51row0_col1\" class=\"data row0 col1\" >$3.05</td>\n                        <td id=\"T_d90fdcd8_df05_11ea_a4f4_b831b581bd51row0_col2\" class=\"data row0 col2\" >780</td>\n                        <td id=\"T_d90fdcd8_df05_11ea_a4f4_b831b581bd51row0_col3\" class=\"data row0 col3\" >$2379.77</td>\n            </tr>\n    </tbody></table>"
     },
     "metadata": {},
     "execution_count": 3
    }
   ],
   "source": [
    "\n",
    "#Purchasing Analysis (Total)\n",
    "\n",
    "uniqueItems = newfile[\"Item ID\"].nunique()\n",
    "uniqueItems\n",
    "\n",
    "averagePrice = newfile[\"Price\"].mean()\n",
    "averagePrice\n",
    "averagePricecal =np.round(averagePrice,2)\n",
    "averagePricecal\n",
    "\n",
    "totalPurchase= newfile[\"SN\"].count()\n",
    "totalPurchase\n",
    "\n",
    "\n",
    "\n",
    "totalRevenue= newfile[\"Price\"].sum()\n",
    "totalRevenue\n",
    "\n",
    "newpurchtable= pd.DataFrame({\"Number of Unique Items\" :[uniqueItems],\n",
    "                            \"Average Price\": [averagePricecal],\n",
    "                            \"Number of Purchases\" :[totalPurchase],\n",
    "                           \"Total Revenue\":[totalRevenue]})\n",
    "newpurchtable.style.format({\"Average Price\":\"${:.2f}\", \"Total Revenue\":\"${:.2f}\"})"
   ]
  },
  {
   "cell_type": "code",
   "execution_count": 4,
   "metadata": {},
   "outputs": [
    {
     "output_type": "execute_result",
     "data": {
      "text/plain": "                     Percentage of Players  Total Count\nCategory                                               \nMale                                113.19          652\nFemale                               19.62          113\nOther/Non-Disclosed                   2.60           15",
      "text/html": "<div>\n<style scoped>\n    .dataframe tbody tr th:only-of-type {\n        vertical-align: middle;\n    }\n\n    .dataframe tbody tr th {\n        vertical-align: top;\n    }\n\n    .dataframe thead th {\n        text-align: right;\n    }\n</style>\n<table border=\"1\" class=\"dataframe\">\n  <thead>\n    <tr style=\"text-align: right;\">\n      <th></th>\n      <th>Percentage of Players</th>\n      <th>Total Count</th>\n    </tr>\n    <tr>\n      <th>Category</th>\n      <th></th>\n      <th></th>\n    </tr>\n  </thead>\n  <tbody>\n    <tr>\n      <th>Male</th>\n      <td>113.19</td>\n      <td>652</td>\n    </tr>\n    <tr>\n      <th>Female</th>\n      <td>19.62</td>\n      <td>113</td>\n    </tr>\n    <tr>\n      <th>Other/Non-Disclosed</th>\n      <td>2.60</td>\n      <td>15</td>\n    </tr>\n  </tbody>\n</table>\n</div>"
     },
     "metadata": {},
     "execution_count": 4
    }
   ],
   "source": [
    "# Gender Demographics\n",
    "Everyone=newfile.loc[newfile[\"Gender\"] ==\"Male\"]\n",
    "maleGamers = len(Everyone)\n",
    "maleGamers\n",
    "\n",
    "\n",
    "Everyone=newfile.loc[newfile[\"Gender\"] ==\"Female\"]\n",
    "femaleGamers = len(Everyone)\n",
    "femaleGamers\n",
    "\n",
    "\n",
    "Everyone =newfile.loc[newfile[\"Gender\"]== \"Other / Non-Disclosed\"]\n",
    "Others = len(Everyone)\n",
    "Others\n",
    "\n",
    "percentageofMales = maleGamers / totalPlayers * 100\n",
    "percentageofMales\n",
    "\n",
    "percentageofFemales = femaleGamers / totalPlayers * 100\n",
    "percentageofFemales\n",
    "\n",
    "othersPercent = Others / totalPlayers * 100\n",
    "othersPercent\n",
    "\n",
    "genderStats = pd.DataFrame({\n",
    "        \"Percentage of Players\":[percentageofMales,percentageofFemales,othersPercent],\n",
    "    \"Total Count\":[maleGamers,femaleGamers,Others],\n",
    "                  \"Category\":[\"Male\", \"Female\", \"Other/Non-Disclosed\"]\n",
    "}).round(2)\n",
    "genderStats_arrange =genderStats.set_index(\"Category\")\n",
    "genderStats_arrange.head()"
   ]
  },
  {
   "cell_type": "code",
   "execution_count": 9,
   "metadata": {},
   "outputs": [
    {
     "output_type": "execute_result",
     "data": {
      "text/plain": "<pandas.io.formats.style.Styler at 0x298b975aec8>",
      "text/html": "<style  type=\"text/css\" >\n</style><table id=\"T_1c9a6e40_de6e_11ea_96ac_b831b581bd51\" ><thead>    <tr>        <th class=\"blank level0\" ></th>        <th class=\"col_heading level0 col0\" >Purchase Count</th>        <th class=\"col_heading level0 col1\" >Average Purchase Price</th>        <th class=\"col_heading level0 col2\" >Total Purchase Value</th>        <th class=\"col_heading level0 col3\" >Avg Purchase Total Per Person</th>    </tr>    <tr>        <th class=\"index_name level0\" >Category</th>        <th class=\"blank\" ></th>        <th class=\"blank\" ></th>        <th class=\"blank\" ></th>        <th class=\"blank\" ></th>    </tr></thead><tbody>\n                <tr>\n                        <th id=\"T_1c9a6e40_de6e_11ea_96ac_b831b581bd51level0_row0\" class=\"row_heading level0 row0\" >Male</th>\n                        <td id=\"T_1c9a6e40_de6e_11ea_96ac_b831b581bd51row0_col0\" class=\"data row0 col0\" >652</td>\n                        <td id=\"T_1c9a6e40_de6e_11ea_96ac_b831b581bd51row0_col1\" class=\"data row0 col1\" >$3.02</td>\n                        <td id=\"T_1c9a6e40_de6e_11ea_96ac_b831b581bd51row0_col2\" class=\"data row0 col2\" >$1967.64</td>\n                        <td id=\"T_1c9a6e40_de6e_11ea_96ac_b831b581bd51row0_col3\" class=\"data row0 col3\" >$3.02</td>\n            </tr>\n            <tr>\n                        <th id=\"T_1c9a6e40_de6e_11ea_96ac_b831b581bd51level0_row1\" class=\"row_heading level0 row1\" >Female</th>\n                        <td id=\"T_1c9a6e40_de6e_11ea_96ac_b831b581bd51row1_col0\" class=\"data row1 col0\" >113</td>\n                        <td id=\"T_1c9a6e40_de6e_11ea_96ac_b831b581bd51row1_col1\" class=\"data row1 col1\" >$3.20</td>\n                        <td id=\"T_1c9a6e40_de6e_11ea_96ac_b831b581bd51row1_col2\" class=\"data row1 col2\" >$361.94</td>\n                        <td id=\"T_1c9a6e40_de6e_11ea_96ac_b831b581bd51row1_col3\" class=\"data row1 col3\" >$3.20</td>\n            </tr>\n            <tr>\n                        <th id=\"T_1c9a6e40_de6e_11ea_96ac_b831b581bd51level0_row2\" class=\"row_heading level0 row2\" >Other/Non-Disclosed</th>\n                        <td id=\"T_1c9a6e40_de6e_11ea_96ac_b831b581bd51row2_col0\" class=\"data row2 col0\" >15</td>\n                        <td id=\"T_1c9a6e40_de6e_11ea_96ac_b831b581bd51row2_col1\" class=\"data row2 col1\" >$3.35</td>\n                        <td id=\"T_1c9a6e40_de6e_11ea_96ac_b831b581bd51row2_col2\" class=\"data row2 col2\" >$50.19</td>\n                        <td id=\"T_1c9a6e40_de6e_11ea_96ac_b831b581bd51row2_col3\" class=\"data row2 col3\" >$3.35</td>\n            </tr>\n    </tbody></table>"
     },
     "metadata": {},
     "execution_count": 9
    }
   ],
   "source": [
    "# Purchasing Analysis (Gender)\n",
    "averagePurchase = newfile.loc[newfile[\"Gender\"] == \"Male\"]\n",
    "averagePurchaseMales = averagePurchase[\"Price\"].mean()\n",
    "totalPurchaseMales =averagePurchase[\"Price\"].sum()\n",
    "averagePurchaseMales\n",
    "totalPurchaseMales\n",
    "\n",
    "averagePurchase = newfile.loc[newfile[\"Gender\"] == \"Female\"]\n",
    "averagePurchaseFeMales = averagePurchase[\"Price\"].mean()\n",
    "totalPurchaseFemales = averagePurchase[\"Price\"].sum()\n",
    "averagePurchaseFeMales\n",
    "\n",
    "averagePurchase=newfile.loc[newfile[\"Gender\"]==\"Other / Non-Disclosed\"]\n",
    "averagePurchaseOthers = averagePurchase[\"Price\"].mean()\n",
    "totalPurchaseOthers =averagePurchase[\"Price\"].sum()\n",
    "averagePurchaseOthers\n",
    "\n",
    "genderAnalysis = pd.DataFrame({\"Purchase Count\" :[maleGamers,femaleGamers,Others],\n",
    "                                      \"Average Purchase Price\" :[averagePurchaseMales, averagePurchaseFeMales, averagePurchaseOthers],\n",
    "                                      \"Total Purchase Value\" : [totalPurchaseMales, totalPurchaseFemales, totalPurchaseOthers],\n",
    "                                      \"Avg Purchase Total Per Person\" : [totalPurchaseMales/maleGamers,totalPurchaseFemales/femaleGamers,totalPurchaseOthers/Others],\n",
    "                                       \"Category\":[\"Male\", \"Female\", \"Other/Non-Disclosed\"]\n",
    "                                      }).round(2)\n",
    "genderAnalysis=genderAnalysis.set_index(\"Category\")\n",
    "genderAnalysis = genderAnalysis[[\"Purchase Count\", \"Average Purchase Price\",\"Total Purchase Value\",\"Avg Purchase Total Per Person\"]]\n",
    "genderAnalysis.style.format({\"Average Purchase Price\":\"${:.2f}\", \"Total Purchase Value\":\"${:.2f}\",\"Avg Purchase Total Per Person\":\"${:.2f}\"})"
   ]
  },
  {
   "cell_type": "code",
   "execution_count": 5,
   "metadata": {},
   "outputs": [
    {
     "output_type": "execute_result",
     "data": {
      "text/plain": "<pandas.io.formats.style.Styler at 0x2516894e408>",
      "text/html": "<style  type=\"text/css\" >\n</style><table id=\"T_db85341e_df05_11ea_8b8d_b831b581bd51\" ><thead>    <tr>        <th class=\"blank level0\" ></th>        <th class=\"col_heading level0 col0\" >Purchase Count</th>        <th class=\"col_heading level0 col1\" >Average Purchase Price</th>        <th class=\"col_heading level0 col2\" >Total Purchase Value</th>        <th class=\"col_heading level0 col3\" >Average Purchase Total Per Person</th>    </tr>    <tr>        <th class=\"index_name level0\" >Age_binning</th>        <th class=\"blank\" ></th>        <th class=\"blank\" ></th>        <th class=\"blank\" ></th>        <th class=\"blank\" ></th>    </tr></thead><tbody>\n                <tr>\n                        <th id=\"T_db85341e_df05_11ea_8b8d_b831b581bd51level0_row0\" class=\"row_heading level0 row0\" ><10</th>\n                        <td id=\"T_db85341e_df05_11ea_8b8d_b831b581bd51row0_col0\" class=\"data row0 col0\" >23</td>\n                        <td id=\"T_db85341e_df05_11ea_8b8d_b831b581bd51row0_col1\" class=\"data row0 col1\" >$3.35</td>\n                        <td id=\"T_db85341e_df05_11ea_8b8d_b831b581bd51row0_col2\" class=\"data row0 col2\" >$77.13</td>\n                        <td id=\"T_db85341e_df05_11ea_8b8d_b831b581bd51row0_col3\" class=\"data row0 col3\" >3.350000</td>\n            </tr>\n            <tr>\n                        <th id=\"T_db85341e_df05_11ea_8b8d_b831b581bd51level0_row1\" class=\"row_heading level0 row1\" >10-14</th>\n                        <td id=\"T_db85341e_df05_11ea_8b8d_b831b581bd51row1_col0\" class=\"data row1 col0\" >28</td>\n                        <td id=\"T_db85341e_df05_11ea_8b8d_b831b581bd51row1_col1\" class=\"data row1 col1\" >$2.96</td>\n                        <td id=\"T_db85341e_df05_11ea_8b8d_b831b581bd51row1_col2\" class=\"data row1 col2\" >$82.78</td>\n                        <td id=\"T_db85341e_df05_11ea_8b8d_b831b581bd51row1_col3\" class=\"data row1 col3\" >2.960000</td>\n            </tr>\n            <tr>\n                        <th id=\"T_db85341e_df05_11ea_8b8d_b831b581bd51level0_row2\" class=\"row_heading level0 row2\" >15-19</th>\n                        <td id=\"T_db85341e_df05_11ea_8b8d_b831b581bd51row2_col0\" class=\"data row2 col0\" >136</td>\n                        <td id=\"T_db85341e_df05_11ea_8b8d_b831b581bd51row2_col1\" class=\"data row2 col1\" >$3.04</td>\n                        <td id=\"T_db85341e_df05_11ea_8b8d_b831b581bd51row2_col2\" class=\"data row2 col2\" >$412.89</td>\n                        <td id=\"T_db85341e_df05_11ea_8b8d_b831b581bd51row2_col3\" class=\"data row2 col3\" >3.040000</td>\n            </tr>\n            <tr>\n                        <th id=\"T_db85341e_df05_11ea_8b8d_b831b581bd51level0_row3\" class=\"row_heading level0 row3\" >20-24</th>\n                        <td id=\"T_db85341e_df05_11ea_8b8d_b831b581bd51row3_col0\" class=\"data row3 col0\" >365</td>\n                        <td id=\"T_db85341e_df05_11ea_8b8d_b831b581bd51row3_col1\" class=\"data row3 col1\" >$3.05</td>\n                        <td id=\"T_db85341e_df05_11ea_8b8d_b831b581bd51row3_col2\" class=\"data row3 col2\" >$1114.06</td>\n                        <td id=\"T_db85341e_df05_11ea_8b8d_b831b581bd51row3_col3\" class=\"data row3 col3\" >3.050000</td>\n            </tr>\n            <tr>\n                        <th id=\"T_db85341e_df05_11ea_8b8d_b831b581bd51level0_row4\" class=\"row_heading level0 row4\" >25-29</th>\n                        <td id=\"T_db85341e_df05_11ea_8b8d_b831b581bd51row4_col0\" class=\"data row4 col0\" >101</td>\n                        <td id=\"T_db85341e_df05_11ea_8b8d_b831b581bd51row4_col1\" class=\"data row4 col1\" >$2.90</td>\n                        <td id=\"T_db85341e_df05_11ea_8b8d_b831b581bd51row4_col2\" class=\"data row4 col2\" >$293.00</td>\n                        <td id=\"T_db85341e_df05_11ea_8b8d_b831b581bd51row4_col3\" class=\"data row4 col3\" >2.900000</td>\n            </tr>\n            <tr>\n                        <th id=\"T_db85341e_df05_11ea_8b8d_b831b581bd51level0_row5\" class=\"row_heading level0 row5\" >30-34</th>\n                        <td id=\"T_db85341e_df05_11ea_8b8d_b831b581bd51row5_col0\" class=\"data row5 col0\" >73</td>\n                        <td id=\"T_db85341e_df05_11ea_8b8d_b831b581bd51row5_col1\" class=\"data row5 col1\" >$2.93</td>\n                        <td id=\"T_db85341e_df05_11ea_8b8d_b831b581bd51row5_col2\" class=\"data row5 col2\" >$214.00</td>\n                        <td id=\"T_db85341e_df05_11ea_8b8d_b831b581bd51row5_col3\" class=\"data row5 col3\" >2.930000</td>\n            </tr>\n            <tr>\n                        <th id=\"T_db85341e_df05_11ea_8b8d_b831b581bd51level0_row6\" class=\"row_heading level0 row6\" >35-39</th>\n                        <td id=\"T_db85341e_df05_11ea_8b8d_b831b581bd51row6_col0\" class=\"data row6 col0\" >41</td>\n                        <td id=\"T_db85341e_df05_11ea_8b8d_b831b581bd51row6_col1\" class=\"data row6 col1\" >$3.60</td>\n                        <td id=\"T_db85341e_df05_11ea_8b8d_b831b581bd51row6_col2\" class=\"data row6 col2\" >$147.67</td>\n                        <td id=\"T_db85341e_df05_11ea_8b8d_b831b581bd51row6_col3\" class=\"data row6 col3\" >3.600000</td>\n            </tr>\n            <tr>\n                        <th id=\"T_db85341e_df05_11ea_8b8d_b831b581bd51level0_row7\" class=\"row_heading level0 row7\" >40+</th>\n                        <td id=\"T_db85341e_df05_11ea_8b8d_b831b581bd51row7_col0\" class=\"data row7 col0\" >13</td>\n                        <td id=\"T_db85341e_df05_11ea_8b8d_b831b581bd51row7_col1\" class=\"data row7 col1\" >$2.94</td>\n                        <td id=\"T_db85341e_df05_11ea_8b8d_b831b581bd51row7_col2\" class=\"data row7 col2\" >$38.24</td>\n                        <td id=\"T_db85341e_df05_11ea_8b8d_b831b581bd51row7_col3\" class=\"data row7 col3\" >2.940000</td>\n            </tr>\n    </tbody></table>"
     },
     "metadata": {},
     "execution_count": 5
    }
   ],
   "source": [
    "#Age Demographics\n",
    "newfile.dtypes\n",
    "#converting the Age - category data type.\n",
    "newint_age = newfile[\"Age\"].astype(str).astype(int)\n",
    "newfile.dtypes\n",
    "\n",
    "ageBin = [0, 9.90, 14.90, 19.90, 24.90, 29.90, 34.90, 39.90, 99999]\n",
    "ageGroup = [\"<10\", \"10-14\", \"15-19\", \"20-24\", \"25-29\", \"30-34\", \"35-39\", \"40+\"]\n",
    "newfile[\"Age_binning\"] = pd.cut(newfile[\"Age\"],ageBin, labels = ageGroup)\n",
    "newfile\n",
    "newfile.head()\n",
    "\n",
    "# Create a GroupBy object based upon \"View Group\"\n",
    "agebingrp = newfile.groupby(\"Age_binning\")\n",
    "#Find how many rows fall into each bin\n",
    "playerCalculation = agebingrp[\"Age\"].count()\n",
    "# Calculation for % of players\n",
    "percentage = playerCalculation / 576 * 100\n",
    "age_demodf = pd.DataFrame({\"Percentage of Players\" :percentage,\"Total Count\":playerCalculation }).round(2)\n",
    "age_demodf.head()\n",
    "#agedemo = newfile.groupby(\"Age_binning\")\n",
    "age_demos1 = age_demodf.reindex(columns=[\"Percentage of Players\",\"Total Count\"])\n",
    "age_demos1\n",
    "\n",
    "\n",
    "newfile[\"Age_binning\"] = pd.cut(newfile[\"Age\"],ageBin, labels = ageGroup)\n",
    "ageDemographicsTwo = newfile.groupby(\"Age_binning\")\n",
    "purct = ageDemographicsTwo[\"SN\"].count()\n",
    "avgpurpri = ageDemographicsTwo[\"Price\"].mean()\n",
    "totpurval = ageDemographicsTwo[\"Price\"].sum()\n",
    "avgpurtotperper= totpurval/purct\n",
    "\n",
    "df = pd.DataFrame({\"Purchase Count\":purct,\n",
    "                        \"Average Purchase Price\":avgpurpri,\n",
    "                        \"Total Purchase Value\":totpurval,\n",
    "                        \"Average Purchase Total Per Person\":avgpurtotperper}).round(2)\n",
    "dfOne = df.reindex(columns=[\"Purchase Count\", \"Average Purchase Price\", \"Total Purchase Value\", \"Average Purchase Total Per Person\"])\n",
    "dfOne.style.format({\"Average Purchase Price\":\"${:.2f}\", \"Total Purchase Value\":\"${:.2f}\",\"Avg Purchase Total Per Person\":\"${:.2f}\"})\n",
    "\n",
    "\n"
   ]
  },
  {
   "cell_type": "code",
   "execution_count": 11,
   "metadata": {},
   "outputs": [
    {
     "output_type": "execute_result",
     "data": {
      "text/plain": "             Purchase Count  Average Purchase Price  Total Purchase Value\nSN                                                                       \nLisosia93                 5                    3.79                 18.96\nIdastidru52               4                    3.86                 15.45\nChamjask73                3                    4.61                 13.83\nIral74                    4                    3.40                 13.62\nIskadarya95               3                    4.37                 13.10",
      "text/html": "<div>\n<style scoped>\n    .dataframe tbody tr th:only-of-type {\n        vertical-align: middle;\n    }\n\n    .dataframe tbody tr th {\n        vertical-align: top;\n    }\n\n    .dataframe thead th {\n        text-align: right;\n    }\n</style>\n<table border=\"1\" class=\"dataframe\">\n  <thead>\n    <tr style=\"text-align: right;\">\n      <th></th>\n      <th>Purchase Count</th>\n      <th>Average Purchase Price</th>\n      <th>Total Purchase Value</th>\n    </tr>\n    <tr>\n      <th>SN</th>\n      <th></th>\n      <th></th>\n      <th></th>\n    </tr>\n  </thead>\n  <tbody>\n    <tr>\n      <th>Lisosia93</th>\n      <td>5</td>\n      <td>3.79</td>\n      <td>18.96</td>\n    </tr>\n    <tr>\n      <th>Idastidru52</th>\n      <td>4</td>\n      <td>3.86</td>\n      <td>15.45</td>\n    </tr>\n    <tr>\n      <th>Chamjask73</th>\n      <td>3</td>\n      <td>4.61</td>\n      <td>13.83</td>\n    </tr>\n    <tr>\n      <th>Iral74</th>\n      <td>4</td>\n      <td>3.40</td>\n      <td>13.62</td>\n    </tr>\n    <tr>\n      <th>Iskadarya95</th>\n      <td>3</td>\n      <td>4.37</td>\n      <td>13.10</td>\n    </tr>\n  </tbody>\n</table>\n</div>"
     },
     "metadata": {},
     "execution_count": 11
    }
   ],
   "source": [
    "# Top Spenders\n",
    "\n",
    "sngrp = newfile.groupby(\"SN\")\n",
    "#sngrp\n",
    "itemidct = sngrp[\"Price\"].count()\n",
    "avgpp= sngrp[\"Price\"].mean()\n",
    "totpv = sngrp[\"Price\"].sum()\n",
    "#totpv\n",
    "newspenderdf = pd.DataFrame({\n",
    "                            \"Purchase Count\" :itemidct,\n",
    "                            \"Average Purchase Price\" :avgpp,\n",
    "                            \"Total Purchase Value\" : totpv}).round(2)\n",
    "newspenderdf=newspenderdf.sort_values(by =\"Total Purchase Value\", ascending = False)\n",
    "newspenderdf = newspenderdf.reindex(columns=[\"Purchase Count\",\"Average Purchase Price\",\"Total Purchase Value\"])\n",
    "newspenderdf.style.format({\"Average Purchase Price\":\"${:.2f}\",\"Total Purchase Value\": \"${:.2f}\"})\n",
    "newspenderdf.head(5)"
   ]
  },
  {
   "cell_type": "code",
   "execution_count": 6,
   "metadata": {},
   "outputs": [
    {
     "output_type": "execute_result",
     "data": {
      "text/plain": "                                                      Purchase Count  \\\nItem ID Item Name                                                      \n92      Final Critic                                              13   \n178     Oathbreaker, Last Hope of the Breaking Storm              12   \n82      Nirvana                                                    9   \n145     Fiery Glass Crusader                                       9   \n108     Extraction, Quickblade Of Trembling Hands                  9   \n\n                                                        Item Price  \\\nItem ID Item Name                                                    \n92      Final Critic                                  [4.88, 4.19]   \n178     Oathbreaker, Last Hope of the Breaking Storm        [4.23]   \n82      Nirvana                                              [4.9]   \n145     Fiery Glass Crusader                                [4.58]   \n108     Extraction, Quickblade Of Trembling Hands           [3.53]   \n\n                                                      Total Purchase Value  \nItem ID Item Name                                                           \n92      Final Critic                                                 59.99  \n178     Oathbreaker, Last Hope of the Breaking Storm                 50.76  \n82      Nirvana                                                      44.10  \n145     Fiery Glass Crusader                                         41.22  \n108     Extraction, Quickblade Of Trembling Hands                    31.77  ",
      "text/html": "<div>\n<style scoped>\n    .dataframe tbody tr th:only-of-type {\n        vertical-align: middle;\n    }\n\n    .dataframe tbody tr th {\n        vertical-align: top;\n    }\n\n    .dataframe thead th {\n        text-align: right;\n    }\n</style>\n<table border=\"1\" class=\"dataframe\">\n  <thead>\n    <tr style=\"text-align: right;\">\n      <th></th>\n      <th></th>\n      <th>Purchase Count</th>\n      <th>Item Price</th>\n      <th>Total Purchase Value</th>\n    </tr>\n    <tr>\n      <th>Item ID</th>\n      <th>Item Name</th>\n      <th></th>\n      <th></th>\n      <th></th>\n    </tr>\n  </thead>\n  <tbody>\n    <tr>\n      <th>92</th>\n      <th>Final Critic</th>\n      <td>13</td>\n      <td>[4.88, 4.19]</td>\n      <td>59.99</td>\n    </tr>\n    <tr>\n      <th>178</th>\n      <th>Oathbreaker, Last Hope of the Breaking Storm</th>\n      <td>12</td>\n      <td>[4.23]</td>\n      <td>50.76</td>\n    </tr>\n    <tr>\n      <th>82</th>\n      <th>Nirvana</th>\n      <td>9</td>\n      <td>[4.9]</td>\n      <td>44.10</td>\n    </tr>\n    <tr>\n      <th>145</th>\n      <th>Fiery Glass Crusader</th>\n      <td>9</td>\n      <td>[4.58]</td>\n      <td>41.22</td>\n    </tr>\n    <tr>\n      <th>108</th>\n      <th>Extraction, Quickblade Of Trembling Hands</th>\n      <td>9</td>\n      <td>[3.53]</td>\n      <td>31.77</td>\n    </tr>\n  </tbody>\n</table>\n</div>"
     },
     "metadata": {},
     "execution_count": 6
    }
   ],
   "source": [
    "#Most Popular Items\n",
    "\n",
    "sngrp1 = newfile.groupby([\"Item ID\",\"Item Name\"])\n",
    "\n",
    "itemid1 = sngrp1[\"Item Name\"].unique\n",
    "itemidct1 = sngrp1[\"Price\"].count()\n",
    "avgpp1= sngrp1[\"Price\"].unique()\n",
    "totpv1 = sngrp1[\"Price\"].sum()\n",
    "#totpv\n",
    "gamerFavorites = pd.DataFrame({\"Purchase Count\" :itemidct1,\n",
    "                            \"Item Price\" :avgpp1,\n",
    "                            \"Total Purchase Value\" : totpv1}).round(2)\n",
    "gamerFavorites=gamerFavorites.sort_values([\"Purchase Count\",\"Total Purchase Value\"], ascending = False)\n",
    "gamerFavorites = gamerFavorites.reindex(columns=[\"Purchase Count\",\"Item Price\",\"Total Purchase Value\"])\n",
    "gamerFavorites.head()"
   ]
  },
  {
   "cell_type": "code",
   "execution_count": 7,
   "metadata": {},
   "outputs": [
    {
     "output_type": "execute_result",
     "data": {
      "text/plain": "                                                      Purchase Count  \\\nItem ID Item Name                                                      \n92      Final Critic                                              13   \n178     Oathbreaker, Last Hope of the Breaking Storm              12   \n82      Nirvana                                                    9   \n145     Fiery Glass Crusader                                       9   \n103     Singed Scalpel                                             8   \n\n                                                        Item Price  \\\nItem ID Item Name                                                    \n92      Final Critic                                  [4.88, 4.19]   \n178     Oathbreaker, Last Hope of the Breaking Storm        [4.23]   \n82      Nirvana                                              [4.9]   \n145     Fiery Glass Crusader                                [4.58]   \n103     Singed Scalpel                                      [4.35]   \n\n                                                      Total Purchase Value  \nItem ID Item Name                                                           \n92      Final Critic                                                 59.99  \n178     Oathbreaker, Last Hope of the Breaking Storm                 50.76  \n82      Nirvana                                                      44.10  \n145     Fiery Glass Crusader                                         41.22  \n103     Singed Scalpel                                               34.80  ",
      "text/html": "<div>\n<style scoped>\n    .dataframe tbody tr th:only-of-type {\n        vertical-align: middle;\n    }\n\n    .dataframe tbody tr th {\n        vertical-align: top;\n    }\n\n    .dataframe thead th {\n        text-align: right;\n    }\n</style>\n<table border=\"1\" class=\"dataframe\">\n  <thead>\n    <tr style=\"text-align: right;\">\n      <th></th>\n      <th></th>\n      <th>Purchase Count</th>\n      <th>Item Price</th>\n      <th>Total Purchase Value</th>\n    </tr>\n    <tr>\n      <th>Item ID</th>\n      <th>Item Name</th>\n      <th></th>\n      <th></th>\n      <th></th>\n    </tr>\n  </thead>\n  <tbody>\n    <tr>\n      <th>92</th>\n      <th>Final Critic</th>\n      <td>13</td>\n      <td>[4.88, 4.19]</td>\n      <td>59.99</td>\n    </tr>\n    <tr>\n      <th>178</th>\n      <th>Oathbreaker, Last Hope of the Breaking Storm</th>\n      <td>12</td>\n      <td>[4.23]</td>\n      <td>50.76</td>\n    </tr>\n    <tr>\n      <th>82</th>\n      <th>Nirvana</th>\n      <td>9</td>\n      <td>[4.9]</td>\n      <td>44.10</td>\n    </tr>\n    <tr>\n      <th>145</th>\n      <th>Fiery Glass Crusader</th>\n      <td>9</td>\n      <td>[4.58]</td>\n      <td>41.22</td>\n    </tr>\n    <tr>\n      <th>103</th>\n      <th>Singed Scalpel</th>\n      <td>8</td>\n      <td>[4.35]</td>\n      <td>34.80</td>\n    </tr>\n  </tbody>\n</table>\n</div>"
     },
     "metadata": {},
     "execution_count": 7
    }
   ],
   "source": [
    "#Most Profitable Items\n",
    "\n",
    "gamerFavorites = gamerFavorites.sort_values([\"Total Purchase Value\"], ascending = False)\n",
    "gamerFavorites.head(5)"
   ]
  }
 ],
 "metadata": {
  "kernelspec": {
   "display_name": "Python 3",
   "language": "python",
   "name": "python3"
  },
  "language_info": {
   "codemirror_mode": {
    "name": "ipython",
    "version": 3
   },
   "file_extension": ".py",
   "mimetype": "text/x-python",
   "name": "python",
   "nbconvert_exporter": "python",
   "pygments_lexer": "ipython3",
   "version": "3.7.8-final"
  }
 },
 "nbformat": 4,
 "nbformat_minor": 2
}